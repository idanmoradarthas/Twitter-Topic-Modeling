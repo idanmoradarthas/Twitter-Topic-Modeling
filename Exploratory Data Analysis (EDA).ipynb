{
 "cells": [
  {
   "cell_type": "markdown",
   "id": "4b7d8dbc-cbe7-4826-8f92-0458a682b7b7",
   "metadata": {},
   "source": [
    "# Fire up pandas"
   ]
  },
  {
   "cell_type": "code",
   "execution_count": 1,
   "id": "729cebd7-6be0-421b-80e3-552a16ad0a34",
   "metadata": {},
   "outputs": [],
   "source": [
    "import pandas as pd"
   ]
  },
  {
   "cell_type": "markdown",
   "id": "62644569-18ab-4f1e-bff8-df918e68ee1c",
   "metadata": {},
   "source": [
    "Let's read the data set"
   ]
  },
  {
   "cell_type": "code",
   "execution_count": 2,
   "id": "8e0f8f1e-dbec-4807-ba0a-d80f43272587",
   "metadata": {},
   "outputs": [
    {
     "data": {
      "text/html": [
       "<div>\n",
       "<style scoped>\n",
       "    .dataframe tbody tr th:only-of-type {\n",
       "        vertical-align: middle;\n",
       "    }\n",
       "\n",
       "    .dataframe tbody tr th {\n",
       "        vertical-align: top;\n",
       "    }\n",
       "\n",
       "    .dataframe thead th {\n",
       "        text-align: right;\n",
       "    }\n",
       "</style>\n",
       "<table border=\"1\" class=\"dataframe\">\n",
       "  <thead>\n",
       "    <tr style=\"text-align: right;\">\n",
       "      <th></th>\n",
       "      <th>id</th>\n",
       "      <th>text</th>\n",
       "    </tr>\n",
       "  </thead>\n",
       "  <tbody>\n",
       "    <tr>\n",
       "      <th>0</th>\n",
       "      <td>1741579989613429166</td>\n",
       "      <td>וואי עברה שנה מאז שהתקלחתי</td>\n",
       "    </tr>\n",
       "    <tr>\n",
       "      <th>1</th>\n",
       "      <td>1741579996819542406</td>\n",
       "      <td>הי יאיר, 2024 מוסרת ד\"ש. https://t.co/6nGzr3PvcN</td>\n",
       "    </tr>\n",
       "    <tr>\n",
       "      <th>2</th>\n",
       "      <td>1741579995263144216</td>\n",
       "      <td>עבר יום</td>\n",
       "    </tr>\n",
       "    <tr>\n",
       "      <th>3</th>\n",
       "      <td>1741579995368370402</td>\n",
       "      <td>אני לא מאמין ש2016 הייתה לפני 12 שנה😭</td>\n",
       "    </tr>\n",
       "    <tr>\n",
       "      <th>4</th>\n",
       "      <td>1741579996026548326</td>\n",
       "      <td>גם אתם אוכלים בשעה מאוחרת בלילה ... כדאי שתדעו...</td>\n",
       "    </tr>\n",
       "  </tbody>\n",
       "</table>\n",
       "</div>"
      ],
      "text/plain": [
       "                    id                                               text\n",
       "0  1741579989613429166                         וואי עברה שנה מאז שהתקלחתי\n",
       "1  1741579996819542406   הי יאיר, 2024 מוסרת ד\"ש. https://t.co/6nGzr3PvcN\n",
       "2  1741579995263144216                                            עבר יום\n",
       "3  1741579995368370402              אני לא מאמין ש2016 הייתה לפני 12 שנה😭\n",
       "4  1741579996026548326  גם אתם אוכלים בשעה מאוחרת בלילה ... כדאי שתדעו..."
      ]
     },
     "execution_count": 2,
     "metadata": {},
     "output_type": "execute_result"
    }
   ],
   "source": [
    "data = pd.read_csv(\"data-1716191272369.csv\")\n",
    "data.head()"
   ]
  },
  {
   "cell_type": "code",
   "execution_count": 3,
   "id": "1c427241-4cad-47a9-8040-b267e28c0f4a",
   "metadata": {},
   "outputs": [
    {
     "name": "stdout",
     "output_type": "stream",
     "text": [
      "<class 'pandas.core.frame.DataFrame'>\n",
      "RangeIndex: 148893 entries, 0 to 148892\n",
      "Data columns (total 2 columns):\n",
      " #   Column  Non-Null Count   Dtype \n",
      "---  ------  --------------   ----- \n",
      " 0   id      148893 non-null  int64 \n",
      " 1   text    148893 non-null  object\n",
      "dtypes: int64(1), object(1)\n",
      "memory usage: 2.3+ MB\n"
     ]
    }
   ],
   "source": [
    "data.info()"
   ]
  },
  {
   "cell_type": "markdown",
   "id": "a88ef91f-1301-4816-bdd8-950010b02894",
   "metadata": {},
   "source": [
    "So no nulls with only two columns\n",
    "# Length\n",
    "Let's see what is legth distribution for the tweets"
   ]
  },
  {
   "cell_type": "code",
   "execution_count": 4,
   "id": "5244ce54-be4b-4b06-9de8-6ec9cda21bd1",
   "metadata": {},
   "outputs": [
    {
     "data": {
      "text/html": [
       "<div>\n",
       "<style scoped>\n",
       "    .dataframe tbody tr th:only-of-type {\n",
       "        vertical-align: middle;\n",
       "    }\n",
       "\n",
       "    .dataframe tbody tr th {\n",
       "        vertical-align: top;\n",
       "    }\n",
       "\n",
       "    .dataframe thead th {\n",
       "        text-align: right;\n",
       "    }\n",
       "</style>\n",
       "<table border=\"1\" class=\"dataframe\">\n",
       "  <thead>\n",
       "    <tr style=\"text-align: right;\">\n",
       "      <th></th>\n",
       "      <th>id</th>\n",
       "      <th>text</th>\n",
       "      <th>length</th>\n",
       "    </tr>\n",
       "  </thead>\n",
       "  <tbody>\n",
       "    <tr>\n",
       "      <th>0</th>\n",
       "      <td>1741579989613429166</td>\n",
       "      <td>וואי עברה שנה מאז שהתקלחתי</td>\n",
       "      <td>26</td>\n",
       "    </tr>\n",
       "    <tr>\n",
       "      <th>1</th>\n",
       "      <td>1741579996819542406</td>\n",
       "      <td>הי יאיר, 2024 מוסרת ד\"ש. https://t.co/6nGzr3PvcN</td>\n",
       "      <td>48</td>\n",
       "    </tr>\n",
       "    <tr>\n",
       "      <th>2</th>\n",
       "      <td>1741579995263144216</td>\n",
       "      <td>עבר יום</td>\n",
       "      <td>7</td>\n",
       "    </tr>\n",
       "    <tr>\n",
       "      <th>3</th>\n",
       "      <td>1741579995368370402</td>\n",
       "      <td>אני לא מאמין ש2016 הייתה לפני 12 שנה😭</td>\n",
       "      <td>37</td>\n",
       "    </tr>\n",
       "    <tr>\n",
       "      <th>4</th>\n",
       "      <td>1741579996026548326</td>\n",
       "      <td>גם אתם אוכלים בשעה מאוחרת בלילה ... כדאי שתדעו...</td>\n",
       "      <td>124</td>\n",
       "    </tr>\n",
       "  </tbody>\n",
       "</table>\n",
       "</div>"
      ],
      "text/plain": [
       "                    id                                               text  \\\n",
       "0  1741579989613429166                         וואי עברה שנה מאז שהתקלחתי   \n",
       "1  1741579996819542406   הי יאיר, 2024 מוסרת ד\"ש. https://t.co/6nGzr3PvcN   \n",
       "2  1741579995263144216                                            עבר יום   \n",
       "3  1741579995368370402              אני לא מאמין ש2016 הייתה לפני 12 שנה😭   \n",
       "4  1741579996026548326  גם אתם אוכלים בשעה מאוחרת בלילה ... כדאי שתדעו...   \n",
       "\n",
       "   length  \n",
       "0      26  \n",
       "1      48  \n",
       "2       7  \n",
       "3      37  \n",
       "4     124  "
      ]
     },
     "execution_count": 4,
     "metadata": {},
     "output_type": "execute_result"
    }
   ],
   "source": [
    "data[\"length\"] = data[\"text\"].str.len()\n",
    "data.head()"
   ]
  },
  {
   "cell_type": "code",
   "execution_count": 5,
   "id": "c2d6b02d-c761-44ce-89f8-2d1d63df9360",
   "metadata": {},
   "outputs": [
    {
     "data": {
      "text/plain": [
       "count    148893.000000\n",
       "mean         95.498888\n",
       "std          74.432324\n",
       "min           1.000000\n",
       "5%           20.000000\n",
       "25%          41.000000\n",
       "50%          70.000000\n",
       "75%         132.000000\n",
       "95%         275.000000\n",
       "max         729.000000\n",
       "Name: length, dtype: float64"
      ]
     },
     "execution_count": 5,
     "metadata": {},
     "output_type": "execute_result"
    }
   ],
   "source": [
    "data[\"length\"].describe(percentiles=[0.05, 0.25, 0.5, 0.75, 0.95])"
   ]
  },
  {
   "cell_type": "code",
   "execution_count": 6,
   "id": "e8adad78-c05d-4862-953f-0c1d04a63d61",
   "metadata": {},
   "outputs": [
    {
     "data": {
      "text/html": [
       "<div>\n",
       "<style scoped>\n",
       "    .dataframe tbody tr th:only-of-type {\n",
       "        vertical-align: middle;\n",
       "    }\n",
       "\n",
       "    .dataframe tbody tr th {\n",
       "        vertical-align: top;\n",
       "    }\n",
       "\n",
       "    .dataframe thead th {\n",
       "        text-align: right;\n",
       "    }\n",
       "</style>\n",
       "<table border=\"1\" class=\"dataframe\">\n",
       "  <thead>\n",
       "    <tr style=\"text-align: right;\">\n",
       "      <th></th>\n",
       "      <th>id</th>\n",
       "      <th>text</th>\n",
       "      <th>length</th>\n",
       "    </tr>\n",
       "  </thead>\n",
       "  <tbody>\n",
       "    <tr>\n",
       "      <th>2</th>\n",
       "      <td>1741579995263144216</td>\n",
       "      <td>עבר יום</td>\n",
       "      <td>7</td>\n",
       "    </tr>\n",
       "    <tr>\n",
       "      <th>11</th>\n",
       "      <td>1741580005606310286</td>\n",
       "      <td>@zacaiha 🙏🏻🙏🏻\\nגם לל</td>\n",
       "      <td>19</td>\n",
       "    </tr>\n",
       "    <tr>\n",
       "      <th>15</th>\n",
       "      <td>1741580016880619681</td>\n",
       "      <td>יופי חג שמח</td>\n",
       "      <td>11</td>\n",
       "    </tr>\n",
       "    <tr>\n",
       "      <th>17</th>\n",
       "      <td>1741580028695982100</td>\n",
       "      <td>@shalomswi13 משו 😇</td>\n",
       "      <td>18</td>\n",
       "    </tr>\n",
       "    <tr>\n",
       "      <th>18</th>\n",
       "      <td>1741580031057379402</td>\n",
       "      <td>מזל 2024</td>\n",
       "      <td>8</td>\n",
       "    </tr>\n",
       "    <tr>\n",
       "      <th>20</th>\n",
       "      <td>1741580035419480299</td>\n",
       "      <td>@StavShaffir אמן</td>\n",
       "      <td>16</td>\n",
       "    </tr>\n",
       "    <tr>\n",
       "      <th>22</th>\n",
       "      <td>1741580044844081595</td>\n",
       "      <td>כן.</td>\n",
       "      <td>3</td>\n",
       "    </tr>\n",
       "    <tr>\n",
       "      <th>25</th>\n",
       "      <td>1741580052154790049</td>\n",
       "      <td>האפי ניו ייר לכם 🥳</td>\n",
       "      <td>18</td>\n",
       "    </tr>\n",
       "    <tr>\n",
       "      <th>30</th>\n",
       "      <td>1741580072677519656</td>\n",
       "      <td>שנה זבל</td>\n",
       "      <td>7</td>\n",
       "    </tr>\n",
       "    <tr>\n",
       "      <th>41</th>\n",
       "      <td>1741580119867547929</td>\n",
       "      <td>@netanyahu תתפטר</td>\n",
       "      <td>16</td>\n",
       "    </tr>\n",
       "    <tr>\n",
       "      <th>48</th>\n",
       "      <td>1741580161273700862</td>\n",
       "      <td>כ' בטבת שמח</td>\n",
       "      <td>11</td>\n",
       "    </tr>\n",
       "    <tr>\n",
       "      <th>61</th>\n",
       "      <td>1741580188561936783</td>\n",
       "      <td>המשך 2023 שמח לכולם</td>\n",
       "      <td>19</td>\n",
       "    </tr>\n",
       "    <tr>\n",
       "      <th>67</th>\n",
       "      <td>1741580204479328640</td>\n",
       "      <td>שנה 2024 🍾</td>\n",
       "      <td>10</td>\n",
       "    </tr>\n",
       "    <tr>\n",
       "      <th>75</th>\n",
       "      <td>1741580227510141147</td>\n",
       "      <td>שנה טובה🥳</td>\n",
       "      <td>9</td>\n",
       "    </tr>\n",
       "    <tr>\n",
       "      <th>78</th>\n",
       "      <td>1741580246913077433</td>\n",
       "      <td>ניהול היבוא.</td>\n",
       "      <td>12</td>\n",
       "    </tr>\n",
       "    <tr>\n",
       "      <th>88</th>\n",
       "      <td>1741580312474161202</td>\n",
       "      <td>2024 התחלנו.</td>\n",
       "      <td>12</td>\n",
       "    </tr>\n",
       "    <tr>\n",
       "      <th>89</th>\n",
       "      <td>1741580318694343032</td>\n",
       "      <td>זה היה כזה שקוף</td>\n",
       "      <td>15</td>\n",
       "    </tr>\n",
       "    <tr>\n",
       "      <th>90</th>\n",
       "      <td>1741580326990676130</td>\n",
       "      <td>@yotamwo אהלן</td>\n",
       "      <td>13</td>\n",
       "    </tr>\n",
       "    <tr>\n",
       "      <th>91</th>\n",
       "      <td>1741580331579232550</td>\n",
       "      <td>זה הרי היה ברור</td>\n",
       "      <td>15</td>\n",
       "    </tr>\n",
       "    <tr>\n",
       "      <th>103</th>\n",
       "      <td>1741580359874003029</td>\n",
       "      <td>@omerdank הלם</td>\n",
       "      <td>13</td>\n",
       "    </tr>\n",
       "  </tbody>\n",
       "</table>\n",
       "</div>"
      ],
      "text/plain": [
       "                      id                  text  length\n",
       "2    1741579995263144216               עבר יום       7\n",
       "11   1741580005606310286  @zacaiha 🙏🏻🙏🏻\\nגם לל      19\n",
       "15   1741580016880619681           יופי חג שמח      11\n",
       "17   1741580028695982100    @shalomswi13 משו 😇      18\n",
       "18   1741580031057379402              מזל 2024       8\n",
       "20   1741580035419480299      @StavShaffir אמן      16\n",
       "22   1741580044844081595                   כן.       3\n",
       "25   1741580052154790049    האפי ניו ייר לכם 🥳      18\n",
       "30   1741580072677519656               שנה זבל       7\n",
       "41   1741580119867547929      @netanyahu תתפטר      16\n",
       "48   1741580161273700862           כ' בטבת שמח      11\n",
       "61   1741580188561936783   המשך 2023 שמח לכולם      19\n",
       "67   1741580204479328640            שנה 2024 🍾      10\n",
       "75   1741580227510141147             שנה טובה🥳       9\n",
       "78   1741580246913077433          ניהול היבוא.      12\n",
       "88   1741580312474161202          2024 התחלנו.      12\n",
       "89   1741580318694343032       זה היה כזה שקוף      15\n",
       "90   1741580326990676130         @yotamwo אהלן      13\n",
       "91   1741580331579232550       זה הרי היה ברור      15\n",
       "103  1741580359874003029         @omerdank הלם      13"
      ]
     },
     "execution_count": 6,
     "metadata": {},
     "output_type": "execute_result"
    }
   ],
   "source": [
    "data.query(\"length < 20\").head(20)"
   ]
  },
  {
   "cell_type": "markdown",
   "id": "4d1d650b-f011-45e4-ae0f-87bd54a68d9b",
   "metadata": {},
   "source": [
    "Most of the tweets are between 20 charercters to 275. Those small tweet are mosly replies which we will ignore. Let's look at the histogram:"
   ]
  },
  {
   "cell_type": "code",
   "execution_count": 7,
   "id": "1922aac8-0247-4037-8241-7ed2ca4ddc44",
   "metadata": {},
   "outputs": [],
   "source": [
    "import matplotlib.pyplot as plt"
   ]
  },
  {
   "cell_type": "code",
   "execution_count": 8,
   "id": "19d5c853-c028-4289-b119-5fd8f6ccd1c7",
   "metadata": {},
   "outputs": [
    {
     "data": {
      "image/png": "[encoded data removed]",
      "text/plain": [
       "<Figure size 1500x400 with 1 Axes>"
      ]
     },
     "metadata": {},
     "output_type": "display_data"
    }
   ],
   "source": [
    "data[\"length\"].plot(kind=\"hist\", legend=False, bins=729)\n",
    "figure = plt.gcf()\n",
    "figure.set_size_inches(15, 4)\n",
    "plt.show()"
   ]
  },
  {
   "cell_type": "code",
   "execution_count": 9,
   "id": "aa5dcf55-363b-4083-894a-7a96d66d9221",
   "metadata": {},
   "outputs": [
    {
     "data": {
      "text/plain": [
       "length\n",
       "140    3649\n",
       "Name: count, dtype: int64"
      ]
     },
     "execution_count": 9,
     "metadata": {},
     "output_type": "execute_result"
    }
   ],
   "source": [
    "data[\"length\"].value_counts().head(1)"
   ]
  },
  {
   "cell_type": "markdown",
   "id": "ce715127-3bfb-4730-985d-d8730b5f2c0a",
   "metadata": {},
   "source": [
    "We can see that we have a spike in 140 legnth, which is limited the original Tweet length."
   ]
  },
  {
   "cell_type": "markdown",
   "id": "079dfe33-fba6-4148-95c2-a987a823ba56",
   "metadata": {},
   "source": [
    "# Mentions and Hashtags\n",
    "Let's see how many tweet have mentions of other users and how many have hashtags"
   ]
  },
  {
   "cell_type": "code",
   "execution_count": 10,
   "id": "8d6bcc3a-bbbd-482f-9837-b08229bcb95c",
   "metadata": {},
   "outputs": [
    {
     "data": {
      "text/html": [
       "<div>\n",
       "<style scoped>\n",
       "    .dataframe tbody tr th:only-of-type {\n",
       "        vertical-align: middle;\n",
       "    }\n",
       "\n",
       "    .dataframe tbody tr th {\n",
       "        vertical-align: top;\n",
       "    }\n",
       "\n",
       "    .dataframe thead th {\n",
       "        text-align: right;\n",
       "    }\n",
       "</style>\n",
       "<table border=\"1\" class=\"dataframe\">\n",
       "  <thead>\n",
       "    <tr style=\"text-align: right;\">\n",
       "      <th></th>\n",
       "      <th>id</th>\n",
       "      <th>text</th>\n",
       "      <th>length</th>\n",
       "      <th>has_mention</th>\n",
       "      <th>has_hashtag</th>\n",
       "    </tr>\n",
       "  </thead>\n",
       "  <tbody>\n",
       "    <tr>\n",
       "      <th>0</th>\n",
       "      <td>1741579989613429166</td>\n",
       "      <td>וואי עברה שנה מאז שהתקלחתי</td>\n",
       "      <td>26</td>\n",
       "      <td>0</td>\n",
       "      <td>0</td>\n",
       "    </tr>\n",
       "    <tr>\n",
       "      <th>1</th>\n",
       "      <td>1741579996819542406</td>\n",
       "      <td>הי יאיר, 2024 מוסרת ד\"ש. https://t.co/6nGzr3PvcN</td>\n",
       "      <td>48</td>\n",
       "      <td>0</td>\n",
       "      <td>0</td>\n",
       "    </tr>\n",
       "    <tr>\n",
       "      <th>2</th>\n",
       "      <td>1741579995263144216</td>\n",
       "      <td>עבר יום</td>\n",
       "      <td>7</td>\n",
       "      <td>0</td>\n",
       "      <td>0</td>\n",
       "    </tr>\n",
       "    <tr>\n",
       "      <th>3</th>\n",
       "      <td>1741579995368370402</td>\n",
       "      <td>אני לא מאמין ש2016 הייתה לפני 12 שנה😭</td>\n",
       "      <td>37</td>\n",
       "      <td>0</td>\n",
       "      <td>0</td>\n",
       "    </tr>\n",
       "    <tr>\n",
       "      <th>4</th>\n",
       "      <td>1741579996026548326</td>\n",
       "      <td>גם אתם אוכלים בשעה מאוחרת בלילה ... כדאי שתדעו...</td>\n",
       "      <td>124</td>\n",
       "      <td>0</td>\n",
       "      <td>1</td>\n",
       "    </tr>\n",
       "  </tbody>\n",
       "</table>\n",
       "</div>"
      ],
      "text/plain": [
       "                    id                                               text  \\\n",
       "0  1741579989613429166                         וואי עברה שנה מאז שהתקלחתי   \n",
       "1  1741579996819542406   הי יאיר, 2024 מוסרת ד\"ש. https://t.co/6nGzr3PvcN   \n",
       "2  1741579995263144216                                            עבר יום   \n",
       "3  1741579995368370402              אני לא מאמין ש2016 הייתה לפני 12 שנה😭   \n",
       "4  1741579996026548326  גם אתם אוכלים בשעה מאוחרת בלילה ... כדאי שתדעו...   \n",
       "\n",
       "   length  has_mention  has_hashtag  \n",
       "0      26            0            0  \n",
       "1      48            0            0  \n",
       "2       7            0            0  \n",
       "3      37            0            0  \n",
       "4     124            0            1  "
      ]
     },
     "execution_count": 10,
     "metadata": {},
     "output_type": "execute_result"
    }
   ],
   "source": [
    "data['has_mention'] = data['text'].str.contains('@').astype(int)\n",
    "data['has_hashtag'] = data['text'].str.contains('#').astype(int)\n",
    "data.head()"
   ]
  },
  {
   "cell_type": "code",
   "execution_count": 11,
   "id": "5ff4da16-43a1-4538-af3a-3621a53a9b0c",
   "metadata": {},
   "outputs": [
    {
     "data": {
      "text/plain": [
       "has_mention\n",
       "1    0.791085\n",
       "0    0.208915\n",
       "Name: proportion, dtype: float64"
      ]
     },
     "execution_count": 11,
     "metadata": {},
     "output_type": "execute_result"
    }
   ],
   "source": [
    "data['has_mention'].value_counts(normalize=True)"
   ]
  },
  {
   "cell_type": "markdown",
   "id": "7d79f702-8889-4de1-aa29-832879c70159",
   "metadata": {},
   "source": [
    "about 80% include a mention to another user"
   ]
  },
  {
   "cell_type": "code",
   "execution_count": 12,
   "id": "0a5da55b-d708-492b-8fde-772a5794d592",
   "metadata": {},
   "outputs": [
    {
     "data": {
      "text/plain": [
       "has_hashtag\n",
       "0    0.987481\n",
       "1    0.012519\n",
       "Name: proportion, dtype: float64"
      ]
     },
     "execution_count": 12,
     "metadata": {},
     "output_type": "execute_result"
    }
   ],
   "source": [
    "data['has_hashtag'].value_counts(normalize=True)"
   ]
  },
  {
   "cell_type": "markdown",
   "id": "56e863bb-8224-49be-98e4-9df4c67aea65",
   "metadata": {},
   "source": [
    "about 99% has a hashtag in the tweet"
   ]
  },
  {
   "cell_type": "markdown",
   "id": "e2bbca46-29aa-4e47-ad51-54ce37bcae9b",
   "metadata": {},
   "source": [
    "# Cleaning\n",
    "Let's clean the text in order to try and extract more statstics:"
   ]
  },
  {
   "cell_type": "code",
   "execution_count": 13,
   "id": "637a85ae-371c-41a1-9d9d-b0be72e28012",
   "metadata": {},
   "outputs": [],
   "source": [
    "import re\n",
    "import nltk\n",
    "import string\n",
    "\n",
    "from nltk.corpus import stopwords\n",
    "from nltk.tokenize import word_tokenize"
   ]
  },
  {
   "cell_type": "code",
   "execution_count": 14,
   "id": "7be493ba-2382-46b7-aa07-c7bd5bf8ec10",
   "metadata": {},
   "outputs": [
    {
     "name": "stderr",
     "output_type": "stream",
     "text": [
      "[nltk_data] Downloading package punkt to C:\\Users\\Idan\n",
      "[nltk_data]     Morad\\AppData\\Roaming\\nltk_data...\n",
      "[nltk_data]   Package punkt is already up-to-date!\n",
      "[nltk_data] Downloading package stopwords to C:\\Users\\Idan\n",
      "[nltk_data]     Morad\\AppData\\Roaming\\nltk_data...\n",
      "[nltk_data]   Package stopwords is already up-to-date!\n"
     ]
    },
    {
     "data": {
      "text/plain": [
       "True"
      ]
     },
     "execution_count": 14,
     "metadata": {},
     "output_type": "execute_result"
    }
   ],
   "source": [
    "nltk.download('punkt')\n",
    "nltk.download('stopwords')"
   ]
  },
  {
   "cell_type": "code",
   "execution_count": 15,
   "id": "7e311605-4993-4d95-8f47-aa4c5f216879",
   "metadata": {},
   "outputs": [],
   "source": [
    "stop_words = set(stopwords.words('hebrew'))\n",
    "\n",
    "def clean_hebrew_tweet(text):\n",
    "  tokens = word_tokenize(text)\n",
    "\n",
    "  # Remove stop words\n",
    "  tokens = [token for token in tokens if (token not in stop_words) and (len(token) > 1)]\n",
    "\n",
    "  # Remove punctuation\n",
    "  tokens = [token for token in tokens if (token.isalnum()) and (token not in string.punctuation)]\n",
    "\n",
    "  cleaned_text = \" \".join(tokens).strip()\n",
    "\n",
    "  return cleaned_text"
   ]
  },
  {
   "cell_type": "code",
   "execution_count": 16,
   "id": "bcab2d0a-73d5-4558-9c49-3405811fc4ae",
   "metadata": {},
   "outputs": [
    {
     "data": {
      "text/html": [
       "<div>\n",
       "<style scoped>\n",
       "    .dataframe tbody tr th:only-of-type {\n",
       "        vertical-align: middle;\n",
       "    }\n",
       "\n",
       "    .dataframe tbody tr th {\n",
       "        vertical-align: top;\n",
       "    }\n",
       "\n",
       "    .dataframe thead th {\n",
       "        text-align: right;\n",
       "    }\n",
       "</style>\n",
       "<table border=\"1\" class=\"dataframe\">\n",
       "  <thead>\n",
       "    <tr style=\"text-align: right;\">\n",
       "      <th></th>\n",
       "      <th>id</th>\n",
       "      <th>text</th>\n",
       "      <th>length</th>\n",
       "      <th>has_mention</th>\n",
       "      <th>has_hashtag</th>\n",
       "      <th>clean_text</th>\n",
       "    </tr>\n",
       "  </thead>\n",
       "  <tbody>\n",
       "    <tr>\n",
       "      <th>0</th>\n",
       "      <td>1741579989613429166</td>\n",
       "      <td>וואי עברה שנה מאז שהתקלחתי</td>\n",
       "      <td>26</td>\n",
       "      <td>0</td>\n",
       "      <td>0</td>\n",
       "      <td>וואי עברה שנה מאז שהתקלחתי</td>\n",
       "    </tr>\n",
       "    <tr>\n",
       "      <th>1</th>\n",
       "      <td>1741579996819542406</td>\n",
       "      <td>הי יאיר, 2024 מוסרת ד\"ש. https://t.co/6nGzr3PvcN</td>\n",
       "      <td>48</td>\n",
       "      <td>0</td>\n",
       "      <td>0</td>\n",
       "      <td>הי יאיר 2024 מוסרת</td>\n",
       "    </tr>\n",
       "    <tr>\n",
       "      <th>2</th>\n",
       "      <td>1741579995263144216</td>\n",
       "      <td>עבר יום</td>\n",
       "      <td>7</td>\n",
       "      <td>0</td>\n",
       "      <td>0</td>\n",
       "      <td>עבר יום</td>\n",
       "    </tr>\n",
       "    <tr>\n",
       "      <th>3</th>\n",
       "      <td>1741579995368370402</td>\n",
       "      <td>אני לא מאמין ש2016 הייתה לפני 12 שנה😭</td>\n",
       "      <td>37</td>\n",
       "      <td>0</td>\n",
       "      <td>0</td>\n",
       "      <td>מאמין ש2016 הייתה 12 שנה</td>\n",
       "    </tr>\n",
       "    <tr>\n",
       "      <th>4</th>\n",
       "      <td>1741579996026548326</td>\n",
       "      <td>גם אתם אוכלים בשעה מאוחרת בלילה ... כדאי שתדעו...</td>\n",
       "      <td>124</td>\n",
       "      <td>0</td>\n",
       "      <td>1</td>\n",
       "      <td>אוכלים בשעה מאוחרת בלילה כדאי שתדעו לקריאת הכת...</td>\n",
       "    </tr>\n",
       "  </tbody>\n",
       "</table>\n",
       "</div>"
      ],
      "text/plain": [
       "                    id                                               text  \\\n",
       "0  1741579989613429166                         וואי עברה שנה מאז שהתקלחתי   \n",
       "1  1741579996819542406   הי יאיר, 2024 מוסרת ד\"ש. https://t.co/6nGzr3PvcN   \n",
       "2  1741579995263144216                                            עבר יום   \n",
       "3  1741579995368370402              אני לא מאמין ש2016 הייתה לפני 12 שנה😭   \n",
       "4  1741579996026548326  גם אתם אוכלים בשעה מאוחרת בלילה ... כדאי שתדעו...   \n",
       "\n",
       "   length  has_mention  has_hashtag  \\\n",
       "0      26            0            0   \n",
       "1      48            0            0   \n",
       "2       7            0            0   \n",
       "3      37            0            0   \n",
       "4     124            0            1   \n",
       "\n",
       "                                          clean_text  \n",
       "0                         וואי עברה שנה מאז שהתקלחתי  \n",
       "1                                 הי יאיר 2024 מוסרת  \n",
       "2                                            עבר יום  \n",
       "3                           מאמין ש2016 הייתה 12 שנה  \n",
       "4  אוכלים בשעה מאוחרת בלילה כדאי שתדעו לקריאת הכת...  "
      ]
     },
     "execution_count": 16,
     "metadata": {},
     "output_type": "execute_result"
    }
   ],
   "source": [
    "emoji_pattern = re.compile(\n",
    "        \"[\"\n",
    "        u\"\\U0001F600-\\U0001F64F\"  # emoticons\n",
    "        u\"\\U0001F300-\\U0001F5FF\"  # symbols & pictographs\n",
    "        u\"\\U0001F680-\\U0001F6FF\"  # transport & map symbols\n",
    "        u\"\\U0001F1E0-\\U0001F1FF\"  # flags (iOS)\n",
    "        u\"\\U00002702-\\U000027B0\"\n",
    "        u\"\\U000024C2-\\U0001F251\"\n",
    "        \"]+\", flags=re.UNICODE\n",
    "    )\n",
    "\n",
    "url_pattern = re.compile(r'http\\S+|www\\.\\S+')\n",
    "\n",
    "data[\"clean_text\"] = data[\"text\"].str.replace(url_pattern, '', regex=True).str.replace(emoji_pattern, '', regex=True).apply(clean_hebrew_tweet)\n",
    "data.head()"
   ]
  },
  {
   "cell_type": "markdown",
   "id": "df80d24f-e525-41dc-ac4c-71bee7afb804",
   "metadata": {},
   "source": [
    "we can see that the word ד\"ש has clean out, probably word other words that are abbreviations with two letter also gone. Let's look at the number of token per tweet now that they are clean:"
   ]
  },
  {
   "cell_type": "code",
   "execution_count": 17,
   "id": "eefef3d7-c8bd-437b-b36d-078bd7525d07",
   "metadata": {},
   "outputs": [
    {
     "data": {
      "text/html": [
       "<div>\n",
       "<style scoped>\n",
       "    .dataframe tbody tr th:only-of-type {\n",
       "        vertical-align: middle;\n",
       "    }\n",
       "\n",
       "    .dataframe tbody tr th {\n",
       "        vertical-align: top;\n",
       "    }\n",
       "\n",
       "    .dataframe thead th {\n",
       "        text-align: right;\n",
       "    }\n",
       "</style>\n",
       "<table border=\"1\" class=\"dataframe\">\n",
       "  <thead>\n",
       "    <tr style=\"text-align: right;\">\n",
       "      <th></th>\n",
       "      <th>id</th>\n",
       "      <th>text</th>\n",
       "      <th>length</th>\n",
       "      <th>has_mention</th>\n",
       "      <th>has_hashtag</th>\n",
       "      <th>clean_text</th>\n",
       "      <th>token_num</th>\n",
       "    </tr>\n",
       "  </thead>\n",
       "  <tbody>\n",
       "    <tr>\n",
       "      <th>0</th>\n",
       "      <td>1741579989613429166</td>\n",
       "      <td>וואי עברה שנה מאז שהתקלחתי</td>\n",
       "      <td>26</td>\n",
       "      <td>0</td>\n",
       "      <td>0</td>\n",
       "      <td>וואי עברה שנה מאז שהתקלחתי</td>\n",
       "      <td>5</td>\n",
       "    </tr>\n",
       "    <tr>\n",
       "      <th>1</th>\n",
       "      <td>1741579996819542406</td>\n",
       "      <td>הי יאיר, 2024 מוסרת ד\"ש. https://t.co/6nGzr3PvcN</td>\n",
       "      <td>48</td>\n",
       "      <td>0</td>\n",
       "      <td>0</td>\n",
       "      <td>הי יאיר 2024 מוסרת</td>\n",
       "      <td>4</td>\n",
       "    </tr>\n",
       "    <tr>\n",
       "      <th>2</th>\n",
       "      <td>1741579995263144216</td>\n",
       "      <td>עבר יום</td>\n",
       "      <td>7</td>\n",
       "      <td>0</td>\n",
       "      <td>0</td>\n",
       "      <td>עבר יום</td>\n",
       "      <td>2</td>\n",
       "    </tr>\n",
       "    <tr>\n",
       "      <th>3</th>\n",
       "      <td>1741579995368370402</td>\n",
       "      <td>אני לא מאמין ש2016 הייתה לפני 12 שנה😭</td>\n",
       "      <td>37</td>\n",
       "      <td>0</td>\n",
       "      <td>0</td>\n",
       "      <td>מאמין ש2016 הייתה 12 שנה</td>\n",
       "      <td>5</td>\n",
       "    </tr>\n",
       "    <tr>\n",
       "      <th>4</th>\n",
       "      <td>1741579996026548326</td>\n",
       "      <td>גם אתם אוכלים בשעה מאוחרת בלילה ... כדאי שתדעו...</td>\n",
       "      <td>124</td>\n",
       "      <td>0</td>\n",
       "      <td>1</td>\n",
       "      <td>אוכלים בשעה מאוחרת בלילה כדאי שתדעו לקריאת הכת...</td>\n",
       "      <td>9</td>\n",
       "    </tr>\n",
       "  </tbody>\n",
       "</table>\n",
       "</div>"
      ],
      "text/plain": [
       "                    id                                               text  \\\n",
       "0  1741579989613429166                         וואי עברה שנה מאז שהתקלחתי   \n",
       "1  1741579996819542406   הי יאיר, 2024 מוסרת ד\"ש. https://t.co/6nGzr3PvcN   \n",
       "2  1741579995263144216                                            עבר יום   \n",
       "3  1741579995368370402              אני לא מאמין ש2016 הייתה לפני 12 שנה😭   \n",
       "4  1741579996026548326  גם אתם אוכלים בשעה מאוחרת בלילה ... כדאי שתדעו...   \n",
       "\n",
       "   length  has_mention  has_hashtag  \\\n",
       "0      26            0            0   \n",
       "1      48            0            0   \n",
       "2       7            0            0   \n",
       "3      37            0            0   \n",
       "4     124            0            1   \n",
       "\n",
       "                                          clean_text  token_num  \n",
       "0                         וואי עברה שנה מאז שהתקלחתי          5  \n",
       "1                                 הי יאיר 2024 מוסרת          4  \n",
       "2                                            עבר יום          2  \n",
       "3                           מאמין ש2016 הייתה 12 שנה          5  \n",
       "4  אוכלים בשעה מאוחרת בלילה כדאי שתדעו לקריאת הכת...          9  "
      ]
     },
     "execution_count": 17,
     "metadata": {},
     "output_type": "execute_result"
    }
   ],
   "source": [
    "data[\"token_num\"] = data[\"clean_text\"].str.split().str.len()\n",
    "data.head()"
   ]
  },
  {
   "cell_type": "code",
   "execution_count": 18,
   "id": "d07d59a2-106b-4068-8970-a0908d072aad",
   "metadata": {},
   "outputs": [
    {
     "data": {
      "text/plain": [
       "count    148893.000000\n",
       "mean         11.587146\n",
       "std           9.941844\n",
       "min           0.000000\n",
       "5%            2.000000\n",
       "25%           4.000000\n",
       "50%           8.000000\n",
       "75%          16.000000\n",
       "95%          35.000000\n",
       "max          57.000000\n",
       "Name: token_num, dtype: float64"
      ]
     },
     "execution_count": 18,
     "metadata": {},
     "output_type": "execute_result"
    }
   ],
   "source": [
    "data[\"token_num\"].describe(percentiles=[0.05, 0.25, 0.5, 0.75, 0.95])"
   ]
  },
  {
   "cell_type": "code",
   "execution_count": 19,
   "id": "e73ad2f3-3e71-4e0f-9e0d-0b919f8a1e17",
   "metadata": {},
   "outputs": [
    {
     "data": {
      "image/png": "[encoded data removed]",
      "text/plain": [
       "<Figure size 1500x400 with 1 Axes>"
      ]
     },
     "metadata": {},
     "output_type": "display_data"
    }
   ],
   "source": [
    "data[\"token_num\"].plot(kind=\"hist\", legend=False, bins=57)\n",
    "figure = plt.gcf()\n",
    "figure.set_size_inches(15, 4)\n",
    "plt.show()"
   ]
  },
  {
   "cell_type": "markdown",
   "id": "746e74ff-87c5-4aa1-a027-3187bd69991f",
   "metadata": {},
   "source": [
    "There are tweets with zero tokens after cleaning which we will have to drop. Most tweets has between 2 to 36 words in them.\n",
    "\n",
    "Let's make the data more presentable:"
   ]
  },
  {
   "cell_type": "code",
   "execution_count": 20,
   "id": "cfd3f806-1192-490c-9a52-f4f5fe547e10",
   "metadata": {},
   "outputs": [
    {
     "data": {
      "text/plain": [
       "132942"
      ]
     },
     "execution_count": 20,
     "metadata": {},
     "output_type": "execute_result"
    }
   ],
   "source": [
    "clean_data = data.query(\"(length >= 20) & (token_num > 2)\").copy(deep=True)\n",
    "clean_data.shape[0]"
   ]
  },
  {
   "cell_type": "markdown",
   "id": "d2b258c2-f94d-44bf-84fb-06c260259be1",
   "metadata": {},
   "source": [
    "So we are left with about 90% of the data.\n",
    "# Frequent Words"
   ]
  },
  {
   "cell_type": "code",
   "execution_count": 21,
   "id": "8dcbe63f-79ab-43b8-bcf2-bc42f7b24ae2",
   "metadata": {},
   "outputs": [],
   "source": [
    "from collections import Counter"
   ]
  },
  {
   "cell_type": "code",
   "execution_count": 22,
   "id": "f3c8806c-5b60-4383-b481-67bc525f83f1",
   "metadata": {},
   "outputs": [
    {
     "data": {
      "text/plain": [
       "[('לך', 7206),\n",
       " ('ישראל', 6532),\n",
       " ('RT', 6506),\n",
       " ('שלא', 5405),\n",
       " ('עוד', 4864),\n",
       " ('ולא', 4832),\n",
       " ('אחד', 4792),\n",
       " ('הזה', 4666),\n",
       " ('כבר', 4462),\n",
       " ('כמה', 3953)]"
      ]
     },
     "execution_count": 22,
     "metadata": {},
     "output_type": "execute_result"
    }
   ],
   "source": [
    "word_frequencies = Counter(clean_data[\"clean_text\"].str.split().explode().tolist())\n",
    "word_frequencies.most_common(10)"
   ]
  },
  {
   "cell_type": "markdown",
   "id": "44da85fd-ff44-407a-afe3-04867e47a9b9",
   "metadata": {},
   "source": [
    "So our top 10 words are pretty much generic. We have the 'RT' token which means retweet and thus we need to see it as a stopword."
   ]
  },
  {
   "cell_type": "code",
   "execution_count": 23,
   "id": "b21cbb84-02f2-4b38-a0a7-63f50e8cb496",
   "metadata": {},
   "outputs": [],
   "source": [
    "stop_words = set(stopwords.words('hebrew') + ['RT'])\n",
    "\n",
    "def clean_hebrew_tweet_2(text):\n",
    "  tokens = word_tokenize(text)\n",
    "\n",
    "  # Remove stop words\n",
    "  tokens = [token for token in tokens if (token not in stop_words) and (len(token) > 1)]\n",
    "\n",
    "  # Remove punctuation\n",
    "  tokens = [token for token in tokens if (token.isalnum()) and (token not in string.punctuation)]\n",
    "\n",
    "  cleaned_text = \" \".join(tokens).strip()\n",
    "\n",
    "  return cleaned_text"
   ]
  },
  {
   "cell_type": "code",
   "execution_count": 24,
   "id": "10e59958-2c47-44d6-ae4c-be88f78e8aa1",
   "metadata": {},
   "outputs": [],
   "source": [
    "clean_data[\"clean_text\"] = clean_data[\"text\"].str.replace(url_pattern, '', regex=True).str.replace(\n",
    "    emoji_pattern, '', regex=True).apply(clean_hebrew_tweet_2)"
   ]
  },
  {
   "cell_type": "code",
   "execution_count": 25,
   "id": "10552057-169d-4e85-96bb-47bc00522f8a",
   "metadata": {},
   "outputs": [
    {
     "data": {
      "text/plain": [
       "[('לך', 7206),\n",
       " ('ישראל', 6532),\n",
       " ('שלא', 5405),\n",
       " ('עוד', 4864),\n",
       " ('ולא', 4832),\n",
       " ('אחד', 4792),\n",
       " ('הזה', 4666),\n",
       " ('כבר', 4462),\n",
       " ('כמה', 3953),\n",
       " ('צריך', 3941)]"
      ]
     },
     "execution_count": 25,
     "metadata": {},
     "output_type": "execute_result"
    }
   ],
   "source": [
    "word_frequencies = Counter(clean_data[\"clean_text\"].str.split().explode().tolist())\n",
    "word_frequencies.most_common(10)"
   ]
  },
  {
   "cell_type": "markdown",
   "id": "481621c7-c989-4469-a9ab-4e322d42ac54",
   "metadata": {},
   "source": [
    "# Finding the Best LDA"
   ]
  },
  {
   "cell_type": "code",
   "execution_count": 26,
   "id": "b54c25e0-6124-4c58-9d69-1912b156cdbe",
   "metadata": {},
   "outputs": [],
   "source": [
    "from gensim.corpora import Dictionary"
   ]
  },
  {
   "cell_type": "code",
   "execution_count": 27,
   "id": "9cecd2c4-dc56-4c46-a3e6-7beecc54991c",
   "metadata": {},
   "outputs": [],
   "source": [
    "dictionary = Dictionary(clean_data[\"clean_text\"].str.split())\n",
    "corpus = [dictionary.doc2bow(text) for text in clean_data[\"clean_text\"].str.split()]"
   ]
  },
  {
   "cell_type": "code",
   "execution_count": 28,
   "id": "436d1291-661d-448d-9ef2-7b3ae0adad8f",
   "metadata": {},
   "outputs": [],
   "source": [
    "from gensim.models.ldamodel import LdaModel\n",
    "from gensim.models import CoherenceModel\n",
    "from tqdm import tqdm"
   ]
  },
  {
   "cell_type": "code",
   "execution_count": 29,
   "id": "eddcbb10-df4e-4fd6-aab6-fb1a17ce662c",
   "metadata": {},
   "outputs": [],
   "source": [
    "results = []"
   ]
  },
  {
   "cell_type": "code",
   "execution_count": 30,
   "id": "b7a338dd-a256-4631-8fc2-4a8ecbf3cf69",
   "metadata": {},
   "outputs": [
    {
     "name": "stderr",
     "output_type": "stream",
     "text": [
      "100%|██████████████████████████████████████████████████████████████████████████████████| 24/24 [37:39<00:00, 94.14s/it]\n"
     ]
    }
   ],
   "source": [
    "for num_topics in tqdm(range(2, 26)):\n",
    "    model = LdaModel(corpus=corpus, id2word=dictionary, num_topics=num_topics, random_state=42)\n",
    "    coherencemodel = CoherenceModel(model=model, texts=clean_data[\"clean_text\"].str.split(), dictionary=dictionary, coherence='c_v')\n",
    "    perplexity = model.log_perplexity(corpus)\n",
    "    results.append({\"num_topics\": num_topics, \"Coherence Score\": coherencemodel.get_coherence(), \"perplexity\": perplexity / num_topics, \"model\": model})"
   ]
  },
  {
   "cell_type": "code",
   "execution_count": 31,
   "id": "b77effc9-e2c3-4f1e-ab02-8fcc26cb55c7",
   "metadata": {},
   "outputs": [
    {
     "data": {
      "image/png": "[encoded data removed]",
      "text/plain": [
       "<Figure size 1500x400 with 2 Axes>"
      ]
     },
     "metadata": {},
     "output_type": "display_data"
    }
   ],
   "source": [
    "results_df = pd.DataFrame(results)\n",
    "fig, (ax1, ax2) = plt.subplots(1, 2)\n",
    "results_df.plot(kind=\"line\", x=\"num_topics\", y=\"Coherence Score\", ax=ax1)\n",
    "results_df.plot(kind=\"line\", x=\"num_topics\", y=\"perplexity\", ax=ax2)\n",
    "fig.set_size_inches(15, 4)\n",
    "plt.show()"
   ]
  },
  {
   "cell_type": "markdown",
   "id": "46e456d8-3699-436d-913d-e4edb47f24d0",
   "metadata": {},
   "source": [
    "Based on the normalized perplexity metric minimum and maximun coherence metric at that same area, I would say that 11 topics is a good astimate for the topic number in this data set.\n",
    "\n",
    "Let's assign each tweet what is the index of the most dominant topic:"
   ]
  },
  {
   "cell_type": "code",
   "execution_count": 32,
   "id": "c2be1eba-3293-420d-8d4e-0176a39fb1b5",
   "metadata": {},
   "outputs": [
    {
     "data": {
      "text/html": [
       "<div>\n",
       "<style scoped>\n",
       "    .dataframe tbody tr th:only-of-type {\n",
       "        vertical-align: middle;\n",
       "    }\n",
       "\n",
       "    .dataframe tbody tr th {\n",
       "        vertical-align: top;\n",
       "    }\n",
       "\n",
       "    .dataframe thead th {\n",
       "        text-align: right;\n",
       "    }\n",
       "</style>\n",
       "<table border=\"1\" class=\"dataframe\">\n",
       "  <thead>\n",
       "    <tr style=\"text-align: right;\">\n",
       "      <th></th>\n",
       "      <th>id</th>\n",
       "      <th>text</th>\n",
       "      <th>length</th>\n",
       "      <th>has_mention</th>\n",
       "      <th>has_hashtag</th>\n",
       "      <th>clean_text</th>\n",
       "      <th>token_num</th>\n",
       "      <th>dominant_topic</th>\n",
       "    </tr>\n",
       "  </thead>\n",
       "  <tbody>\n",
       "    <tr>\n",
       "      <th>0</th>\n",
       "      <td>1741579989613429166</td>\n",
       "      <td>וואי עברה שנה מאז שהתקלחתי</td>\n",
       "      <td>26</td>\n",
       "      <td>0</td>\n",
       "      <td>0</td>\n",
       "      <td>וואי עברה שנה מאז שהתקלחתי</td>\n",
       "      <td>5</td>\n",
       "      <td>11</td>\n",
       "    </tr>\n",
       "    <tr>\n",
       "      <th>1</th>\n",
       "      <td>1741579996819542406</td>\n",
       "      <td>הי יאיר, 2024 מוסרת ד\"ש. https://t.co/6nGzr3PvcN</td>\n",
       "      <td>48</td>\n",
       "      <td>0</td>\n",
       "      <td>0</td>\n",
       "      <td>הי יאיר 2024 מוסרת</td>\n",
       "      <td>4</td>\n",
       "      <td>4</td>\n",
       "    </tr>\n",
       "    <tr>\n",
       "      <th>3</th>\n",
       "      <td>1741579995368370402</td>\n",
       "      <td>אני לא מאמין ש2016 הייתה לפני 12 שנה😭</td>\n",
       "      <td>37</td>\n",
       "      <td>0</td>\n",
       "      <td>0</td>\n",
       "      <td>מאמין ש2016 הייתה 12 שנה</td>\n",
       "      <td>5</td>\n",
       "      <td>3</td>\n",
       "    </tr>\n",
       "    <tr>\n",
       "      <th>4</th>\n",
       "      <td>1741579996026548326</td>\n",
       "      <td>גם אתם אוכלים בשעה מאוחרת בלילה ... כדאי שתדעו...</td>\n",
       "      <td>124</td>\n",
       "      <td>0</td>\n",
       "      <td>1</td>\n",
       "      <td>אוכלים בשעה מאוחרת בלילה כדאי שתדעו לקריאת הכת...</td>\n",
       "      <td>9</td>\n",
       "      <td>4</td>\n",
       "    </tr>\n",
       "    <tr>\n",
       "      <th>5</th>\n",
       "      <td>1741579998710890870</td>\n",
       "      <td>עתידות: \\nביום רביעי חיפה תתן ארבע חתכה להפועל...</td>\n",
       "      <td>79</td>\n",
       "      <td>0</td>\n",
       "      <td>0</td>\n",
       "      <td>עתידות ביום רביעי חיפה תתן ארבע חתכה להפועל ומ...</td>\n",
       "      <td>12</td>\n",
       "      <td>5</td>\n",
       "    </tr>\n",
       "  </tbody>\n",
       "</table>\n",
       "</div>"
      ],
      "text/plain": [
       "                    id                                               text  \\\n",
       "0  1741579989613429166                         וואי עברה שנה מאז שהתקלחתי   \n",
       "1  1741579996819542406   הי יאיר, 2024 מוסרת ד\"ש. https://t.co/6nGzr3PvcN   \n",
       "3  1741579995368370402              אני לא מאמין ש2016 הייתה לפני 12 שנה😭   \n",
       "4  1741579996026548326  גם אתם אוכלים בשעה מאוחרת בלילה ... כדאי שתדעו...   \n",
       "5  1741579998710890870  עתידות: \\nביום רביעי חיפה תתן ארבע חתכה להפועל...   \n",
       "\n",
       "   length  has_mention  has_hashtag  \\\n",
       "0      26            0            0   \n",
       "1      48            0            0   \n",
       "3      37            0            0   \n",
       "4     124            0            1   \n",
       "5      79            0            0   \n",
       "\n",
       "                                          clean_text  token_num  \\\n",
       "0                         וואי עברה שנה מאז שהתקלחתי          5   \n",
       "1                                 הי יאיר 2024 מוסרת          4   \n",
       "3                           מאמין ש2016 הייתה 12 שנה          5   \n",
       "4  אוכלים בשעה מאוחרת בלילה כדאי שתדעו לקריאת הכת...          9   \n",
       "5  עתידות ביום רביעי חיפה תתן ארבע חתכה להפועל ומ...         12   \n",
       "\n",
       "   dominant_topic  \n",
       "0              11  \n",
       "1               4  \n",
       "3               3  \n",
       "4               4  \n",
       "5               5  "
      ]
     },
     "execution_count": 32,
     "metadata": {},
     "output_type": "execute_result"
    }
   ],
   "source": [
    "chosen_model = results[9][\"model\"] # the model with 11 topic in at the 9th place as the count started from 2\n",
    "dominant_topics = []\n",
    "for i, row in enumerate(chosen_model[corpus]):\n",
    "    row = sorted(row, key=lambda x: (x[1]), reverse=True)\n",
    "    dominant_topic = row[0][0] + 1 #fixing the topic number to be like pyLDAvis\n",
    "    dominant_topics.append(dominant_topic)\n",
    "clean_data['dominant_topic'] = dominant_topics\n",
    "clean_data.head()"
   ]
  },
  {
   "cell_type": "markdown",
   "id": "7d552f85-9f95-4b91-b359-14bf4cebd254",
   "metadata": {},
   "source": [
    "Let's what are most dominant topics:"
   ]
  },
  {
   "cell_type": "code",
   "execution_count": 33,
   "id": "dda47482-2f00-4ef5-b082-d6ec7f7fe7c8",
   "metadata": {},
   "outputs": [
    {
     "data": {
      "text/plain": [
       "dominant_topic\n",
       "2     0.154880\n",
       "9     0.144680\n",
       "8     0.119631\n",
       "1     0.114727\n",
       "10    0.079508\n",
       "3     0.075108\n",
       "6     0.074092\n",
       "4     0.072468\n",
       "11    0.056303\n",
       "5     0.056137\n",
       "7     0.052466\n",
       "Name: proportion, dtype: float64"
      ]
     },
     "execution_count": 33,
     "metadata": {},
     "output_type": "execute_result"
    }
   ],
   "source": [
    "clean_data[\"dominant_topic\"].value_counts(normalize=True).sort_values(ascending=False)"
   ]
  },
  {
   "cell_type": "markdown",
   "id": "b33bbdab-f2dd-4fce-b542-4429d80c9a2d",
   "metadata": {},
   "source": [
    "I will take all the topics that are above 10% in the population:"
   ]
  },
  {
   "cell_type": "code",
   "execution_count": 34,
   "id": "75d800e2-732c-4de6-bb16-0de49b0c4e26",
   "metadata": {},
   "outputs": [
    {
     "data": {
      "text/plain": [
       "[2, 9, 8, 1]"
      ]
     },
     "execution_count": 34,
     "metadata": {},
     "output_type": "execute_result"
    }
   ],
   "source": [
    "chosen_topics = clean_data[\"dominant_topic\"].value_counts(normalize=True).sort_values(ascending=False).reset_index().query(\"proportion > 0.1\")[\"dominant_topic\"].tolist()\n",
    "chosen_topics"
   ]
  },
  {
   "cell_type": "markdown",
   "id": "f2ee4bd4-5834-47e9-a7ae-25591f0b26de",
   "metadata": {},
   "source": [
    "Now the users already defined for us the topic using the hashtags, as 99% of the tweets has them (see above). So will use it. First let's extract those hastags:"
   ]
  },
  {
   "cell_type": "code",
   "execution_count": 35,
   "id": "1dabba2a-7e25-4b7f-ba0a-a3781ca98d84",
   "metadata": {},
   "outputs": [
    {
     "data": {
      "text/html": [
       "<div>\n",
       "<style scoped>\n",
       "    .dataframe tbody tr th:only-of-type {\n",
       "        vertical-align: middle;\n",
       "    }\n",
       "\n",
       "    .dataframe tbody tr th {\n",
       "        vertical-align: top;\n",
       "    }\n",
       "\n",
       "    .dataframe thead th {\n",
       "        text-align: right;\n",
       "    }\n",
       "</style>\n",
       "<table border=\"1\" class=\"dataframe\">\n",
       "  <thead>\n",
       "    <tr style=\"text-align: right;\">\n",
       "      <th></th>\n",
       "      <th>id</th>\n",
       "      <th>text</th>\n",
       "      <th>length</th>\n",
       "      <th>has_mention</th>\n",
       "      <th>has_hashtag</th>\n",
       "      <th>clean_text</th>\n",
       "      <th>token_num</th>\n",
       "      <th>dominant_topic</th>\n",
       "      <th>hashtags</th>\n",
       "    </tr>\n",
       "  </thead>\n",
       "  <tbody>\n",
       "    <tr>\n",
       "      <th>0</th>\n",
       "      <td>1741579989613429166</td>\n",
       "      <td>וואי עברה שנה מאז שהתקלחתי</td>\n",
       "      <td>26</td>\n",
       "      <td>0</td>\n",
       "      <td>0</td>\n",
       "      <td>וואי עברה שנה מאז שהתקלחתי</td>\n",
       "      <td>5</td>\n",
       "      <td>11</td>\n",
       "      <td>[]</td>\n",
       "    </tr>\n",
       "    <tr>\n",
       "      <th>1</th>\n",
       "      <td>1741579996819542406</td>\n",
       "      <td>הי יאיר, 2024 מוסרת ד\"ש. https://t.co/6nGzr3PvcN</td>\n",
       "      <td>48</td>\n",
       "      <td>0</td>\n",
       "      <td>0</td>\n",
       "      <td>הי יאיר 2024 מוסרת</td>\n",
       "      <td>4</td>\n",
       "      <td>4</td>\n",
       "      <td>[]</td>\n",
       "    </tr>\n",
       "    <tr>\n",
       "      <th>3</th>\n",
       "      <td>1741579995368370402</td>\n",
       "      <td>אני לא מאמין ש2016 הייתה לפני 12 שנה😭</td>\n",
       "      <td>37</td>\n",
       "      <td>0</td>\n",
       "      <td>0</td>\n",
       "      <td>מאמין ש2016 הייתה 12 שנה</td>\n",
       "      <td>5</td>\n",
       "      <td>3</td>\n",
       "      <td>[]</td>\n",
       "    </tr>\n",
       "    <tr>\n",
       "      <th>4</th>\n",
       "      <td>1741579996026548326</td>\n",
       "      <td>גם אתם אוכלים בשעה מאוחרת בלילה ... כדאי שתדעו...</td>\n",
       "      <td>124</td>\n",
       "      <td>0</td>\n",
       "      <td>1</td>\n",
       "      <td>אוכלים בשעה מאוחרת בלילה כדאי שתדעו לקריאת הכת...</td>\n",
       "      <td>9</td>\n",
       "      <td>4</td>\n",
       "      <td>[#יופי]</td>\n",
       "    </tr>\n",
       "    <tr>\n",
       "      <th>5</th>\n",
       "      <td>1741579998710890870</td>\n",
       "      <td>עתידות: \\nביום רביעי חיפה תתן ארבע חתכה להפועל...</td>\n",
       "      <td>79</td>\n",
       "      <td>0</td>\n",
       "      <td>0</td>\n",
       "      <td>עתידות ביום רביעי חיפה תתן ארבע חתכה להפועל ומ...</td>\n",
       "      <td>12</td>\n",
       "      <td>5</td>\n",
       "      <td>[]</td>\n",
       "    </tr>\n",
       "  </tbody>\n",
       "</table>\n",
       "</div>"
      ],
      "text/plain": [
       "                    id                                               text  \\\n",
       "0  1741579989613429166                         וואי עברה שנה מאז שהתקלחתי   \n",
       "1  1741579996819542406   הי יאיר, 2024 מוסרת ד\"ש. https://t.co/6nGzr3PvcN   \n",
       "3  1741579995368370402              אני לא מאמין ש2016 הייתה לפני 12 שנה😭   \n",
       "4  1741579996026548326  גם אתם אוכלים בשעה מאוחרת בלילה ... כדאי שתדעו...   \n",
       "5  1741579998710890870  עתידות: \\nביום רביעי חיפה תתן ארבע חתכה להפועל...   \n",
       "\n",
       "   length  has_mention  has_hashtag  \\\n",
       "0      26            0            0   \n",
       "1      48            0            0   \n",
       "3      37            0            0   \n",
       "4     124            0            1   \n",
       "5      79            0            0   \n",
       "\n",
       "                                          clean_text  token_num  \\\n",
       "0                         וואי עברה שנה מאז שהתקלחתי          5   \n",
       "1                                 הי יאיר 2024 מוסרת          4   \n",
       "3                           מאמין ש2016 הייתה 12 שנה          5   \n",
       "4  אוכלים בשעה מאוחרת בלילה כדאי שתדעו לקריאת הכת...          9   \n",
       "5  עתידות ביום רביעי חיפה תתן ארבע חתכה להפועל ומ...         12   \n",
       "\n",
       "   dominant_topic hashtags  \n",
       "0              11       []  \n",
       "1               4       []  \n",
       "3               3       []  \n",
       "4               4  [#יופי]  \n",
       "5               5       []  "
      ]
     },
     "execution_count": 35,
     "metadata": {},
     "output_type": "execute_result"
    }
   ],
   "source": [
    "clean_data[\"hashtags\"] = clean_data[\"text\"].apply(lambda x: re.findall(r'#\\w+', x))\n",
    "clean_data.head()"
   ]
  },
  {
   "cell_type": "markdown",
   "id": "752c4bde-0a9f-4698-b365-41f13c6801e1",
   "metadata": {},
   "source": [
    "Now let's find for each topic what is their hash tags:"
   ]
  },
  {
   "cell_type": "code",
   "execution_count": 36,
   "id": "1dc73a9b-0dd3-47dc-9e64-5235fa3e4903",
   "metadata": {},
   "outputs": [
    {
     "name": "stdout",
     "output_type": "stream",
     "text": [
      "Topic 2 Name: היא שרה\n",
      "Topic 9 Name: ביביסטים הם כסילים\n",
      "Topic 8 Name: TikTok\n",
      "Topic 1 Name: רקמראה\n"
     ]
    }
   ],
   "source": [
    "top_topics_names = {}\n",
    "for topic in chosen_topics:\n",
    "    topic_hashtags = [hashtag for hashtags in clean_data.query(\"dominant_topic == @topic\")['hashtags'] for hashtag in hashtags]\n",
    "    for i in range(1, 10):\n",
    "        most_common_hashtag = Counter(topic_hashtags).most_common(i)[0][0]\n",
    "        topic_name = most_common_hashtag.replace('#', '').replace('_', ' ')\n",
    "        if topic_name not in top_topics_names.values():\n",
    "            top_topics_names[topic] = topic_name\n",
    "            break\n",
    "for topic, topic_name in top_topics_names.items():\n",
    "    print(f\"Topic {topic} Name: {topic_name}\")"
   ]
  },
  {
   "cell_type": "code",
   "execution_count": 37,
   "id": "69b9bc45-0209-4e0e-b219-ce40dc3580b4",
   "metadata": {},
   "outputs": [],
   "source": [
    "from gensim.corpora import MmCorpus"
   ]
  },
  {
   "cell_type": "code",
   "execution_count": 38,
   "id": "38599966-1e4d-4d26-9990-a7d8297a4aa5",
   "metadata": {},
   "outputs": [],
   "source": [
    "chosen_model.save('lda_model.model')\n",
    "dictionary.save('lda_dictionary.dict')\n",
    "MmCorpus.serialize('corpus.mm', corpus)\n",
    "clean_data.to_csv(\"data_clean.csv\", index=False)"
   ]
  }
 ],
 "metadata": {
  "kernelspec": {
   "display_name": "Python 3 (ipykernel)",
   "language": "python",
   "name": "python3"
  },
  "language_info": {
   "codemirror_mode": {
    "name": "ipython",
    "version": 3
   },
   "file_extension": ".py",
   "mimetype": "text/x-python",
   "name": "python",
   "nbconvert_exporter": "python",
   "pygments_lexer": "ipython3",
   "version": "3.11.7"
  }
 },
 "nbformat": 4,
 "nbformat_minor": 5
}
